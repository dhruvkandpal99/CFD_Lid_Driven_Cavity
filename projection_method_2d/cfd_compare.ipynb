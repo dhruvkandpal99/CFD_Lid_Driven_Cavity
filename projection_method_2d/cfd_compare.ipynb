{
 "cells": [
  {
   "cell_type": "code",
   "execution_count": 12,
   "id": "e0d960dd",
   "metadata": {},
   "outputs": [],
   "source": [
    "import pandas as pd\n",
    "import matplotlib.pyplot as plt"
   ]
  },
  {
   "cell_type": "markdown",
   "id": "f4b03adb",
   "metadata": {},
   "source": [
    "First checking for RE = 100"
   ]
  },
  {
   "cell_type": "code",
   "execution_count": 13,
   "id": "c15f941e",
   "metadata": {},
   "outputs": [],
   "source": [
    "\n",
    "\n",
    "df1 = pd.read_csv(\"cfd_re100_n.csv\")\n",
    "df2 = pd.read_csv(\"true_re100.csv\")\n",
    "arr = [0, 7, 8, 9, 13, 22, 36, 58, 64, 79, 94, 109, 122, 123, 124, 125, 128]"
   ]
  },
  {
   "cell_type": "markdown",
   "id": "6c26b3ef",
   "metadata": {},
   "source": [
    "HORIZONTAL VELOCITY VALUES AT SPECIFIC POSTIONS AS CALCUALTED BY SOLVER"
   ]
  },
  {
   "cell_type": "code",
   "execution_count": 14,
   "id": "5cc5e3c4",
   "metadata": {},
   "outputs": [
    {
     "data": {
      "text/html": [
       "<div>\n",
       "<style scoped>\n",
       "    .dataframe tbody tr th:only-of-type {\n",
       "        vertical-align: middle;\n",
       "    }\n",
       "\n",
       "    .dataframe tbody tr th {\n",
       "        vertical-align: top;\n",
       "    }\n",
       "\n",
       "    .dataframe thead th {\n",
       "        text-align: right;\n",
       "    }\n",
       "</style>\n",
       "<table border=\"1\" class=\"dataframe\">\n",
       "  <thead>\n",
       "    <tr style=\"text-align: right;\">\n",
       "      <th></th>\n",
       "      <th>Unnamed: 0</th>\n",
       "      <th>0</th>\n",
       "    </tr>\n",
       "  </thead>\n",
       "  <tbody>\n",
       "    <tr>\n",
       "      <th>0</th>\n",
       "      <td>0</td>\n",
       "      <td>0.000000</td>\n",
       "    </tr>\n",
       "    <tr>\n",
       "      <th>1</th>\n",
       "      <td>1</td>\n",
       "      <td>-0.004911</td>\n",
       "    </tr>\n",
       "    <tr>\n",
       "      <th>2</th>\n",
       "      <td>2</td>\n",
       "      <td>-0.009635</td>\n",
       "    </tr>\n",
       "    <tr>\n",
       "      <th>3</th>\n",
       "      <td>3</td>\n",
       "      <td>-0.014186</td>\n",
       "    </tr>\n",
       "    <tr>\n",
       "      <th>4</th>\n",
       "      <td>4</td>\n",
       "      <td>-0.018578</td>\n",
       "    </tr>\n",
       "    <tr>\n",
       "      <th>...</th>\n",
       "      <td>...</td>\n",
       "      <td>...</td>\n",
       "    </tr>\n",
       "    <tr>\n",
       "      <th>124</th>\n",
       "      <td>124</td>\n",
       "      <td>0.798479</td>\n",
       "    </tr>\n",
       "    <tr>\n",
       "      <th>125</th>\n",
       "      <td>125</td>\n",
       "      <td>0.849149</td>\n",
       "    </tr>\n",
       "    <tr>\n",
       "      <th>126</th>\n",
       "      <td>126</td>\n",
       "      <td>0.900039</td>\n",
       "    </tr>\n",
       "    <tr>\n",
       "      <th>127</th>\n",
       "      <td>127</td>\n",
       "      <td>0.950566</td>\n",
       "    </tr>\n",
       "    <tr>\n",
       "      <th>128</th>\n",
       "      <td>128</td>\n",
       "      <td>1.000000</td>\n",
       "    </tr>\n",
       "  </tbody>\n",
       "</table>\n",
       "<p>129 rows × 2 columns</p>\n",
       "</div>"
      ],
      "text/plain": [
       "     Unnamed: 0         0\n",
       "0             0  0.000000\n",
       "1             1 -0.004911\n",
       "2             2 -0.009635\n",
       "3             3 -0.014186\n",
       "4             4 -0.018578\n",
       "..          ...       ...\n",
       "124         124  0.798479\n",
       "125         125  0.849149\n",
       "126         126  0.900039\n",
       "127         127  0.950566\n",
       "128         128  1.000000\n",
       "\n",
       "[129 rows x 2 columns]"
      ]
     },
     "execution_count": 14,
     "metadata": {},
     "output_type": "execute_result"
    }
   ],
   "source": [
    "df1"
   ]
  },
  {
   "cell_type": "markdown",
   "id": "055d1621",
   "metadata": {},
   "source": [
    "Values as per Ghia et.al"
   ]
  },
  {
   "cell_type": "code",
   "execution_count": 15,
   "id": "fe6b1f87",
   "metadata": {},
   "outputs": [
    {
     "data": {
      "text/html": [
       "<div>\n",
       "<style scoped>\n",
       "    .dataframe tbody tr th:only-of-type {\n",
       "        vertical-align: middle;\n",
       "    }\n",
       "\n",
       "    .dataframe tbody tr th {\n",
       "        vertical-align: top;\n",
       "    }\n",
       "\n",
       "    .dataframe thead th {\n",
       "        text-align: right;\n",
       "    }\n",
       "</style>\n",
       "<table border=\"1\" class=\"dataframe\">\n",
       "  <thead>\n",
       "    <tr style=\"text-align: right;\">\n",
       "      <th></th>\n",
       "      <th>Unnamed: 0</th>\n",
       "      <th>0</th>\n",
       "    </tr>\n",
       "  </thead>\n",
       "  <tbody>\n",
       "    <tr>\n",
       "      <th>0</th>\n",
       "      <td>0</td>\n",
       "      <td>0.000000</td>\n",
       "    </tr>\n",
       "    <tr>\n",
       "      <th>7</th>\n",
       "      <td>7</td>\n",
       "      <td>-0.030934</td>\n",
       "    </tr>\n",
       "    <tr>\n",
       "      <th>8</th>\n",
       "      <td>8</td>\n",
       "      <td>-0.034817</td>\n",
       "    </tr>\n",
       "    <tr>\n",
       "      <th>9</th>\n",
       "      <td>9</td>\n",
       "      <td>-0.038600</td>\n",
       "    </tr>\n",
       "    <tr>\n",
       "      <th>13</th>\n",
       "      <td>13</td>\n",
       "      <td>-0.052923</td>\n",
       "    </tr>\n",
       "    <tr>\n",
       "      <th>22</th>\n",
       "      <td>22</td>\n",
       "      <td>-0.082422</td>\n",
       "    </tr>\n",
       "    <tr>\n",
       "      <th>36</th>\n",
       "      <td>36</td>\n",
       "      <td>-0.126630</td>\n",
       "    </tr>\n",
       "    <tr>\n",
       "      <th>58</th>\n",
       "      <td>58</td>\n",
       "      <td>-0.177165</td>\n",
       "    </tr>\n",
       "    <tr>\n",
       "      <th>64</th>\n",
       "      <td>64</td>\n",
       "      <td>-0.176431</td>\n",
       "    </tr>\n",
       "    <tr>\n",
       "      <th>79</th>\n",
       "      <td>79</td>\n",
       "      <td>-0.125832</td>\n",
       "    </tr>\n",
       "    <tr>\n",
       "      <th>94</th>\n",
       "      <td>94</td>\n",
       "      <td>-0.001947</td>\n",
       "    </tr>\n",
       "    <tr>\n",
       "      <th>109</th>\n",
       "      <td>109</td>\n",
       "      <td>0.233398</td>\n",
       "    </tr>\n",
       "    <tr>\n",
       "      <th>122</th>\n",
       "      <td>122</td>\n",
       "      <td>0.699490</td>\n",
       "    </tr>\n",
       "    <tr>\n",
       "      <th>123</th>\n",
       "      <td>123</td>\n",
       "      <td>0.748462</td>\n",
       "    </tr>\n",
       "    <tr>\n",
       "      <th>124</th>\n",
       "      <td>124</td>\n",
       "      <td>0.798479</td>\n",
       "    </tr>\n",
       "    <tr>\n",
       "      <th>125</th>\n",
       "      <td>125</td>\n",
       "      <td>0.849149</td>\n",
       "    </tr>\n",
       "    <tr>\n",
       "      <th>128</th>\n",
       "      <td>128</td>\n",
       "      <td>1.000000</td>\n",
       "    </tr>\n",
       "  </tbody>\n",
       "</table>\n",
       "</div>"
      ],
      "text/plain": [
       "     Unnamed: 0         0\n",
       "0             0  0.000000\n",
       "7             7 -0.030934\n",
       "8             8 -0.034817\n",
       "9             9 -0.038600\n",
       "13           13 -0.052923\n",
       "22           22 -0.082422\n",
       "36           36 -0.126630\n",
       "58           58 -0.177165\n",
       "64           64 -0.176431\n",
       "79           79 -0.125832\n",
       "94           94 -0.001947\n",
       "109         109  0.233398\n",
       "122         122  0.699490\n",
       "123         123  0.748462\n",
       "124         124  0.798479\n",
       "125         125  0.849149\n",
       "128         128  1.000000"
      ]
     },
     "execution_count": 15,
     "metadata": {},
     "output_type": "execute_result"
    }
   ],
   "source": [
    "\n",
    "filtered_df1 = df1[df1.iloc[:, 0].isin(arr)]\n",
    "filtered_df1"
   ]
  },
  {
   "cell_type": "code",
   "execution_count": 16,
   "id": "c5f94e87",
   "metadata": {},
   "outputs": [
    {
     "data": {
      "text/html": [
       "<div>\n",
       "<style scoped>\n",
       "    .dataframe tbody tr th:only-of-type {\n",
       "        vertical-align: middle;\n",
       "    }\n",
       "\n",
       "    .dataframe tbody tr th {\n",
       "        vertical-align: top;\n",
       "    }\n",
       "\n",
       "    .dataframe thead th {\n",
       "        text-align: right;\n",
       "    }\n",
       "</style>\n",
       "<table border=\"1\" class=\"dataframe\">\n",
       "  <thead>\n",
       "    <tr style=\"text-align: right;\">\n",
       "      <th></th>\n",
       "      <th>value</th>\n",
       "    </tr>\n",
       "  </thead>\n",
       "  <tbody>\n",
       "    <tr>\n",
       "      <th>0</th>\n",
       "      <td>0.00000</td>\n",
       "    </tr>\n",
       "    <tr>\n",
       "      <th>1</th>\n",
       "      <td>-0.03717</td>\n",
       "    </tr>\n",
       "    <tr>\n",
       "      <th>2</th>\n",
       "      <td>-0.04192</td>\n",
       "    </tr>\n",
       "    <tr>\n",
       "      <th>3</th>\n",
       "      <td>-0.04775</td>\n",
       "    </tr>\n",
       "    <tr>\n",
       "      <th>4</th>\n",
       "      <td>-0.06434</td>\n",
       "    </tr>\n",
       "    <tr>\n",
       "      <th>5</th>\n",
       "      <td>-0.10150</td>\n",
       "    </tr>\n",
       "    <tr>\n",
       "      <th>6</th>\n",
       "      <td>-0.15662</td>\n",
       "    </tr>\n",
       "    <tr>\n",
       "      <th>7</th>\n",
       "      <td>-0.21090</td>\n",
       "    </tr>\n",
       "    <tr>\n",
       "      <th>8</th>\n",
       "      <td>-0.20581</td>\n",
       "    </tr>\n",
       "    <tr>\n",
       "      <th>9</th>\n",
       "      <td>-0.13641</td>\n",
       "    </tr>\n",
       "    <tr>\n",
       "      <th>10</th>\n",
       "      <td>0.00332</td>\n",
       "    </tr>\n",
       "    <tr>\n",
       "      <th>11</th>\n",
       "      <td>0.23151</td>\n",
       "    </tr>\n",
       "    <tr>\n",
       "      <th>12</th>\n",
       "      <td>0.68717</td>\n",
       "    </tr>\n",
       "    <tr>\n",
       "      <th>13</th>\n",
       "      <td>0.73722</td>\n",
       "    </tr>\n",
       "    <tr>\n",
       "      <th>14</th>\n",
       "      <td>0.78871</td>\n",
       "    </tr>\n",
       "    <tr>\n",
       "      <th>15</th>\n",
       "      <td>0.84123</td>\n",
       "    </tr>\n",
       "    <tr>\n",
       "      <th>16</th>\n",
       "      <td>1.00000</td>\n",
       "    </tr>\n",
       "  </tbody>\n",
       "</table>\n",
       "</div>"
      ],
      "text/plain": [
       "      value\n",
       "0   0.00000\n",
       "1  -0.03717\n",
       "2  -0.04192\n",
       "3  -0.04775\n",
       "4  -0.06434\n",
       "5  -0.10150\n",
       "6  -0.15662\n",
       "7  -0.21090\n",
       "8  -0.20581\n",
       "9  -0.13641\n",
       "10  0.00332\n",
       "11  0.23151\n",
       "12  0.68717\n",
       "13  0.73722\n",
       "14  0.78871\n",
       "15  0.84123\n",
       "16  1.00000"
      ]
     },
     "execution_count": 16,
     "metadata": {},
     "output_type": "execute_result"
    }
   ],
   "source": [
    "df2"
   ]
  },
  {
   "cell_type": "code",
   "execution_count": 17,
   "id": "674338d9",
   "metadata": {},
   "outputs": [
    {
     "name": "stdout",
     "output_type": "stream",
     "text": [
      "Relative RMSE: 0.009961938606138294\n"
     ]
    }
   ],
   "source": [
    "import numpy as np\n",
    "\n",
    "\n",
    "df2_row = df2.values  \n",
    "\n",
    "\n",
    "df1_vals = filtered_df1.iloc[:, 1:].values  \n",
    "\n",
    "\n",
    "# Compute RMSE for each row\n",
    "rmse = np.sqrt(np.mean((df1_vals - df2_row)**2, axis=1))\n",
    "\n",
    "# relative rmse \n",
    "rel_rmse = rmse.mean() / np.ptp(df2.values)\n",
    "print(\"Relative RMSE:\", rel_rmse)"
   ]
  },
  {
   "cell_type": "markdown",
   "id": "c5ee83a1",
   "metadata": {},
   "source": [
    "RMSE VALUE OF 0.0099 IS IMPRESSIVE!"
   ]
  },
  {
   "cell_type": "markdown",
   "id": "61991398",
   "metadata": {},
   "source": [
    "NOW PLOTTING THE TRUE AND CALCULATED VALUES"
   ]
  },
  {
   "cell_type": "code",
   "execution_count": 18,
   "id": "3fa8ef33",
   "metadata": {},
   "outputs": [
    {
     "data": {
      "image/png": "[encoded data removed]",
      "text/plain": [
       "<Figure size 640x480 with 1 Axes>"
      ]
     },
     "metadata": {},
     "output_type": "display_data"
    }
   ],
   "source": [
    "x = range(len(df2_row))\n",
    "plt.plot(x, df2_row, label='true', marker='o')\n",
    "plt.plot(x, df1_vals, label='calculated', marker='x')\n",
    "\n",
    "plt.legend()\n",
    "plt.show()\n"
   ]
  },
  {
   "cell_type": "markdown",
   "id": "b4e32536",
   "metadata": {},
   "source": [
    "NOW FOR RE  =400"
   ]
  },
  {
   "cell_type": "code",
   "execution_count": 19,
   "id": "ad4daaf4",
   "metadata": {},
   "outputs": [
    {
     "name": "stdout",
     "output_type": "stream",
     "text": [
      "Relative RMSE: 0.0355753659737649\n"
     ]
    }
   ],
   "source": [
    "df1 = pd.read_csv(\"cfd_re400_n.csv\")\n",
    "df2 = pd.read_csv(\"cfd_true400.csv\")\n",
    "arr = [0, 7, 8, 9, 13, 22, 36, 58, 64, 79, 94, 109, 122, 123, 124, 125, 128]\n",
    "\n",
    "filtered_df1 = df1[df1.iloc[:, 0].isin(arr)]\n",
    "\n",
    "import numpy as np\n",
    "\n",
    "\n",
    "df2_row = df2.values  \n",
    "\n",
    "\n",
    "df1_vals = filtered_df1.iloc[:, 1:].values  \n",
    "\n",
    "\n",
    "# Compute RMSE for each row\n",
    "rmse = np.sqrt(np.mean((df1_vals - df2_row)**2, axis=1))\n",
    "\n",
    "# relative rmse \n",
    "rel_rmse = rmse.mean() / np.ptp(df2.values)\n",
    "print(\"Relative RMSE:\", rel_rmse)"
   ]
  },
  {
   "cell_type": "markdown",
   "id": "4d945f99",
   "metadata": {},
   "source": [
    "RMSE OF 0.036 CERTAINLY SHOWS THAT ACCURACY IS COMPROMISED AT HIGHER SPEEDS (This could also be due to the fact that upwind schemes have not been used.)"
   ]
  },
  {
   "cell_type": "code",
   "execution_count": 20,
   "id": "d825e705",
   "metadata": {},
   "outputs": [
    {
     "data": {
      "image/png": "[encoded data removed]",
      "text/plain": [
       "<Figure size 640x480 with 1 Axes>"
      ]
     },
     "metadata": {},
     "output_type": "display_data"
    }
   ],
   "source": [
    "x = range(len(df2_row))\n",
    "plt.plot(x, df2_row, label='true', marker='o')\n",
    "plt.plot(x, df1_vals, label='calculated', marker='x')\n",
    "plt.legend()\n",
    "plt.show()"
   ]
  }
 ],
 "metadata": {
  "kernelspec": {
   "display_name": "env",
   "language": "python",
   "name": "python3"
  },
  "language_info": {
   "codemirror_mode": {
    "name": "ipython",
    "version": 3
   },
   "file_extension": ".py",
   "mimetype": "text/x-python",
   "name": "python",
   "nbconvert_exporter": "python",
   "pygments_lexer": "ipython3",
   "version": "3.12.3"
  }
 },
 "nbformat": 4,
 "nbformat_minor": 5
}
